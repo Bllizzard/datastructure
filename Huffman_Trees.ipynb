{
 "cells": [
  {
   "cell_type": "code",
   "execution_count": 159,
   "metadata": {},
   "outputs": [],
   "source": [
    "class Node(object):\n",
    "    def __init__(self,value=None,data=None):\n",
    "        self.value=value\n",
    "        self.data=data\n",
    "        self.left=None\n",
    "        self.right=None\n",
    "\n",
    "class HuffmanTree(object):\n",
    "    def __init__(self,char_weights):\n",
    "        self.a=[Node(key,value) for key,value in char_weights.items()]  \n",
    "        \n",
    "        while len(self.a)!=1:    \n",
    "            self.a.sort(key=lambda node:node.data,reverse=True)\n",
    "            c=Node(data=(self.a[-1].data+self.a[-2].data))\n",
    "            c.left=self.a.pop(-1)\n",
    "            c.right=self.a.pop(-1)\n",
    "            self.a.append(c)\n",
    "        self.root=self.a[0]\n",
    "        self.b=list(range(10))        \n",
    "\n",
    "    def encode(self,tree,length):\n",
    "        node=tree\n",
    "        if (not node):\n",
    "            return\n",
    "        elif node.value:\n",
    "            print (node.value + ':'),\n",
    "            for i in range(length):\n",
    "                print (self.b[i]),\n",
    "            print ('\\n')\n",
    "            return\n",
    "        self.b[length]=0\n",
    "        self.encode(node.left,length+1)\n",
    "        self.b[length]=1\n",
    "        self.encode(node.right,length+1)\n",
    "\n",
    "    def get_code(self):\n",
    "        self.encode(self.root,0)\n",
    "        \n",
    "    def decode(self, bitstring):\n",
    "        # Return the word encoded in bitstring, or None if the code is invalid\n",
    "        results = ''\n",
    "        for i in bitstring:\n",
    "            if i == '0':\n",
    "                b = self.left\n",
    "                if b.data:\n",
    "                    results += b.value\n",
    "                    a = self\n",
    "                else:\n",
    "                    a = b \n",
    "\n",
    "            elif i == '1':\n",
    "                b = a.right\n",
    "                if b.data:\n",
    "                    results += b.value \n",
    "                    a = self\n",
    "                else:\n",
    "                    a = b \n",
    "\n",
    "            else:\n",
    "                results += '\\n'\n",
    "        return results\n",
    "\n"
   ]
  },
  {
   "cell_type": "code",
   "execution_count": 160,
   "metadata": {},
   "outputs": [],
   "source": [
    "char_weights={'a': 15, 'd': 9, 'e': 18, 'H': 10, 'l': 16, 'o': 7, 'W': 4, 'r': 11, 'z': 3, ' ': 20}\n",
    "t = HuffmanTree(char_weights)"
   ]
  },
  {
   "cell_type": "code",
   "execution_count": 161,
   "metadata": {},
   "outputs": [
    {
     "name": "stdout",
     "output_type": "stream",
     "text": [
      " :\n",
      "0\n",
      "0\n",
      "\n",
      "\n",
      "r:\n",
      "0\n",
      "1\n",
      "0\n",
      "\n",
      "\n",
      "z:\n",
      "0\n",
      "1\n",
      "1\n",
      "0\n",
      "0\n",
      "\n",
      "\n",
      "W:\n",
      "0\n",
      "1\n",
      "1\n",
      "0\n",
      "1\n",
      "\n",
      "\n",
      "o:\n",
      "0\n",
      "1\n",
      "1\n",
      "1\n",
      "\n",
      "\n",
      "a:\n",
      "1\n",
      "0\n",
      "0\n",
      "\n",
      "\n",
      "l:\n",
      "1\n",
      "0\n",
      "1\n",
      "\n",
      "\n",
      "e:\n",
      "1\n",
      "1\n",
      "0\n",
      "\n",
      "\n",
      "d:\n",
      "1\n",
      "1\n",
      "1\n",
      "0\n",
      "\n",
      "\n",
      "H:\n",
      "1\n",
      "1\n",
      "1\n",
      "1\n",
      "\n",
      "\n"
     ]
    }
   ],
   "source": [
    "t.get_code()"
   ]
  },
  {
   "cell_type": "code",
   "execution_count": 163,
   "metadata": {},
   "outputs": [
    {
     "data": {
      "text/plain": [
       "'\\n'"
      ]
     },
     "execution_count": 163,
     "metadata": {},
     "output_type": "execute_result"
    }
   ],
   "source": [
    "t.decode({'101'})"
   ]
  },
  {
   "cell_type": "code",
   "execution_count": null,
   "metadata": {},
   "outputs": [],
   "source": []
  },
  {
   "cell_type": "code",
   "execution_count": null,
   "metadata": {},
   "outputs": [],
   "source": []
  },
  {
   "cell_type": "code",
   "execution_count": null,
   "metadata": {},
   "outputs": [],
   "source": []
  },
  {
   "cell_type": "code",
   "execution_count": null,
   "metadata": {},
   "outputs": [],
   "source": []
  },
  {
   "cell_type": "code",
   "execution_count": null,
   "metadata": {},
   "outputs": [],
   "source": []
  }
 ],
 "metadata": {
  "kernelspec": {
   "display_name": "Python 3 (ipykernel)",
   "language": "python",
   "name": "python3"
  },
  "language_info": {
   "codemirror_mode": {
    "name": "ipython",
    "version": 3
   },
   "file_extension": ".py",
   "mimetype": "text/x-python",
   "name": "python",
   "nbconvert_exporter": "python",
   "pygments_lexer": "ipython3",
   "version": "3.9.7"
  }
 },
 "nbformat": 4,
 "nbformat_minor": 2
}
