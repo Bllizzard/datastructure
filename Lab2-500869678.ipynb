{
 "cells": [
  {
   "cell_type": "markdown",
   "metadata": {},
   "source": [
    "# 1. Binary Tree"
   ]
  },
  {
   "cell_type": "code",
   "execution_count": 1,
   "metadata": {},
   "outputs": [],
   "source": [
    "class Node(object):\n",
    "    def __init__(self, data=None, left=None, right= None):\n",
    "        # Initialize this node, and store data in it\n",
    "        self.root = data\n",
    "        self.left = None\n",
    "        self.right = None\n",
    "        \n",
    "    def __str__(self, depth=0):\n",
    "        ret = \"\"\n",
    "\n",
    "        # Print right branch\n",
    "        if self.right != None:\n",
    "            ret += self.right.__str__(depth + 1)\n",
    "\n",
    "        # Print own value\n",
    "        ret += \"\\n\" + (\"    \"*depth) + str(self.root)\n",
    "\n",
    "        # Print left branch\n",
    "        if self.left != None:\n",
    "            ret += self.left.__str__(depth + 1)\n",
    "\n",
    "        return ret\n",
    "\n",
    "\n",
    "class MyTree():\n",
    "    def __init__(self, data):\n",
    "        # Initialize this node, and store data in it\n",
    "        self.root = Node(data)\n",
    "        self.left = None\n",
    "        self.right = None\n",
    "        self.height = 0\n",
    "        self.descendents = 0\n",
    "        \n",
    "    def __str__(self, depth=0):\n",
    "        ret = \"\"\n",
    "\n",
    "        # Print right branch\n",
    "        if self.right != None:\n",
    "            ret += self.right.__str__(depth + 1)\n",
    "\n",
    "        # Print own value\n",
    "        ret += \"\\n\" + (\"    \"*depth) + str(self.root)\n",
    "\n",
    "        # Print left branch\n",
    "        if self.left != None:\n",
    "            ret += self.left.__str__(depth + 1)\n",
    "\n",
    "        return ret\n",
    "    \n",
    "    def getLeft(self):\n",
    "        # Return the left child of this node, or None\n",
    "        return self.left\n",
    "    \n",
    "    def getRight(self):\n",
    "        # Return the right child of this node, or None\n",
    "        return self.right\n",
    "    \n",
    "    def getData(self):\n",
    "        # Return the data contained in this node\n",
    "        return self.data\n",
    "\n",
    "    def insert(self, data):\n",
    "        # Insert data into the tree, descending from this node\n",
    "        # Ensure the tree remains complete - every level is filled save for the last, and each node is as far left as possible\n",
    "        # Return this node after data has been inserted\n",
    "        # level order\n",
    "        new_node = Node(data)\n",
    "        \n",
    "        if self.root is None:\n",
    "            self.root = new_node\n",
    "        else:\n",
    "            node_queue = list()\n",
    "            node_queue.append(self.root)\n",
    "            while len(node_queue):\n",
    "                q_node = node_queue.pop(0)\n",
    "                if q_node.left is None:\n",
    "                    q_node.left = new_node\n",
    "                    break\n",
    "                elif q_node.right is None:\n",
    "                    q_node.right = new_node\n",
    "                    break\n",
    "                else:\n",
    "                    node_queue.append(q_node.left)\n",
    "                    node_queue.append(q_node.right)\n",
    "                    \n",
    "      \n",
    "    def getHeight(self):\n",
    "        # Return the height of this node\n",
    "        if self.root is None:\n",
    "            return 0\n",
    "        else:\n",
    "            node_queue = list()\n",
    "            node_queue.append(self.root)\n",
    "            depth = 0\n",
    "        while len(node_queue):\n",
    "            q_len = len(node_queue)\n",
    "            while q_len:\n",
    "                q_node = node_queue.pop(0)\n",
    "                q_len = q_len - 1\n",
    "                if q_node.left is not None:\n",
    "                    node_queue.append(q_node.left)\n",
    "                if q_node.right is not None:\n",
    "                    node_queue.append(q_node.right)\n",
    "                    depth = depth + 1\n",
    "        return depth"
   ]
  },
  {
   "cell_type": "code",
   "execution_count": 2,
   "metadata": {},
   "outputs": [],
   "source": [
    "t = MyTree(9)"
   ]
  },
  {
   "cell_type": "code",
   "execution_count": 3,
   "metadata": {},
   "outputs": [],
   "source": [
    "t.insert(8)\n",
    "t.insert(7)\n",
    "t.insert(6)\n",
    "t.insert(5)\n",
    "t.insert(4)\n",
    "t.insert(3)\n",
    "t.insert(2)\n",
    "t.insert(1)\n",
    "t.insert(0)"
   ]
  },
  {
   "cell_type": "code",
   "execution_count": 4,
   "metadata": {
    "scrolled": true
   },
   "outputs": [
    {
     "data": {
      "text/plain": [
       "4"
      ]
     },
     "execution_count": 4,
     "metadata": {},
     "output_type": "execute_result"
    }
   ],
   "source": [
    "t.getHeight()"
   ]
  },
  {
   "cell_type": "code",
   "execution_count": 5,
   "metadata": {},
   "outputs": [
    {
     "name": "stdout",
     "output_type": "stream",
     "text": [
      "\n",
      "\n",
      "        3\n",
      "    7\n",
      "        4\n",
      "9\n",
      "        5\n",
      "            0\n",
      "    8\n",
      "            1\n",
      "        6\n",
      "            2\n"
     ]
    }
   ],
   "source": [
    "print(t)"
   ]
  },
  {
   "cell_type": "markdown",
   "metadata": {},
   "source": [
    "# 2. Binary Search Tree (BST)"
   ]
  },
  {
   "cell_type": "code",
   "execution_count": 6,
   "metadata": {},
   "outputs": [],
   "source": [
    "class MyBST(MyTree):\n",
    "    def __init__(self, data):\n",
    "        # Initialize this node, and store data in it\n",
    "        super().__init__(data)\n",
    "        self.data = data\n",
    "\n",
    "    def __str__(self, depth=0):\n",
    "        ret = \"\"\n",
    "\n",
    "        # Print right branch\n",
    "        if self.right != None:\n",
    "            ret += self.right.__str__(depth + 1)\n",
    "\n",
    "        # Print own value\n",
    "        ret += \"\\n\" + (\"    \"*depth) + str(self.data)\n",
    "\n",
    "        # Print left branch\n",
    "        if self.left != None:\n",
    "            ret += self.left.__str__(depth + 1)\n",
    "        \n",
    "                \n",
    "\n",
    "    def insert(self, data):\n",
    "        # Insert data into the tree, descending from this node\n",
    "        # Ensure that the tree remains a valid Binary Search Tree\n",
    "        # Return this node after data has been inserted\n",
    "        new_node = MyBST(data)\n",
    "        \n",
    "        if self.data == data:\n",
    "            return False\n",
    "        else:\n",
    "            if data < self.data:\n",
    "                if self.left is not None:\n",
    "                    self.left.insert(data)\n",
    "                else:\n",
    "                    self.left = new_node\n",
    "            elif data > self.data:\n",
    "                if self.right is not None:\n",
    "                    self.right.insert(data)\n",
    "                else:\n",
    "                    self.right = new_node\n",
    "            else:\n",
    "                return\n",
    "        \n",
    "\n",
    "    def __contains__(self, data):\n",
    "        # Returns true if data is in this node or a node descending from it\n",
    "        if self.data == data:\n",
    "            return True\n",
    "\n",
    "        elif data < self.data and self.left!=None:\n",
    "            return self.left.__contains__(data)\n",
    "        elif data > self.data and self.right!=None:\n",
    "            return self.right.__contains__(data)\n",
    "        return False\n",
    "    \n",
    "    # print tree inorder\n",
    "    def printtree (self):       \n",
    "        \n",
    "        if self:  \n",
    "            if self.left:\n",
    "                self.left.printtree ()\n",
    "            print (str(self.data), end =' ')\n",
    "            if self.right:\n",
    "                self.right.printtree ()\n"
   ]
  },
  {
   "cell_type": "code",
   "execution_count": 7,
   "metadata": {},
   "outputs": [],
   "source": [
    "b = MyBST(9)"
   ]
  },
  {
   "cell_type": "code",
   "execution_count": 8,
   "metadata": {},
   "outputs": [],
   "source": [
    "b.insert(8)\n",
    "b.insert(7)\n",
    "b.insert(6)\n",
    "b.insert(5)\n",
    "b.insert(4)\n",
    "b.insert(3)\n",
    "b.insert(2)\n",
    "b.insert(1)\n",
    "b.insert(0)"
   ]
  },
  {
   "cell_type": "code",
   "execution_count": 9,
   "metadata": {},
   "outputs": [
    {
     "data": {
      "text/plain": [
       "True"
      ]
     },
     "execution_count": 9,
     "metadata": {},
     "output_type": "execute_result"
    }
   ],
   "source": [
    "b.__contains__(0)"
   ]
  },
  {
   "cell_type": "code",
   "execution_count": 10,
   "metadata": {},
   "outputs": [
    {
     "data": {
      "text/plain": [
       "False"
      ]
     },
     "execution_count": 10,
     "metadata": {},
     "output_type": "execute_result"
    }
   ],
   "source": [
    "b.__contains__(13)"
   ]
  },
  {
   "cell_type": "code",
   "execution_count": 11,
   "metadata": {},
   "outputs": [
    {
     "name": "stdout",
     "output_type": "stream",
     "text": [
      "0 1 2 3 4 5 6 7 8 9 "
     ]
    }
   ],
   "source": [
    "b.printtree()"
   ]
  },
  {
   "cell_type": "code",
   "execution_count": 12,
   "metadata": {},
   "outputs": [
    {
     "data": {
      "text/plain": [
       "0"
      ]
     },
     "execution_count": 12,
     "metadata": {},
     "output_type": "execute_result"
    }
   ],
   "source": [
    "b.getHeight()"
   ]
  },
  {
   "cell_type": "markdown",
   "metadata": {},
   "source": [
    "# 3. AVL Tree"
   ]
  },
  {
   "cell_type": "code",
   "execution_count": 13,
   "metadata": {},
   "outputs": [],
   "source": [
    "#Declaration of AVL Tree class\n",
    "\n",
    "class MyAVL(MyBST):\n",
    "    class Node:\n",
    "    #init method acts as constructor of the Node class\n",
    "        def __init__(self, data, left=None, right=None):\n",
    "            self.data = data\n",
    "            self.left = left\n",
    "            self.right = right\n",
    "\n",
    "    #Implementation of rotate_right method\n",
    "        def rightRotate(self):\n",
    "            n = self.left\n",
    "            self.data, n.data = n.data, self.data\n",
    "            self.left, n.left, self.right, n.right = n.left, n.right, n, self.right\n",
    "\n",
    "    #Implementation of rotate_left method\n",
    "        def leftRotate(self):\n",
    "            n = self.right\n",
    "            self.data, n.data = n.data, self.data\n",
    "            self.right, n.right, self.left, n.left = n.right, n.left, n, self.left\n",
    "\n",
    "        def height(n):\n",
    "            if not n:\n",
    "                return 0\n",
    "            else:\n",
    "                return max(1 + MyAVL.Node.height(n.left), 1 + MyAVL.Node.height(n.right))\n",
    "    #Implementation of rebalance method\n",
    "        def getBalanceFactor(self):\n",
    "            # Return the balance factor of this node\n",
    "            right_height = self.right.height() if self.right else 0\n",
    "            left_height = self.left.height() if self.left else 0\n",
    "\n",
    "            return left_height - right_height            \n",
    "            \n",
    "            \n",
    "            \n",
    "    \n",
    "    def __init__(self):\n",
    "        self.size = 0\n",
    "        self.root = None\n",
    "\n",
    "\n",
    "\n",
    "\n",
    "    def rebalance(self):\n",
    "        if self.getBalanceFactor() > 0:\n",
    "            if self.left.getBalanceFactor() >= 0:\n",
    "                # sigle L\n",
    "                self.rightRotate()\n",
    "            else:\n",
    "                # LL(L R)\n",
    "                self.left.leftRotate()\n",
    "                self.rightRotate()\n",
    "        else:\n",
    "            if self.right.getBalanceFactor() <= 0:\n",
    "                # sigle R\n",
    "                self.leftRotate()\n",
    "            else:\n",
    "                #RR(R l)\n",
    "                self.right.rightRotate()\n",
    "                self.leftRotate()\n",
    "                \n",
    "    def insert(self, data):\n",
    "        assert (data not in self)\n",
    "\n",
    "        def insert_rec(node):\n",
    "            if not node:\n",
    "                return MyAVL.Node(data)\n",
    "            elif data < node.data:\n",
    "                node.left = insert_rec(node.left)\n",
    "            elif data > node.data:\n",
    "                node.right = insert_rec(node.right)\n",
    "            if abs(MyAVL.Node.height(node.left) - MyAVL.Node.height(node.right)) >= 2:\n",
    "                MyAVL.rebalance(node)\n",
    "            return node\n",
    "\n",
    "        self.root = insert_rec(self.root)\n",
    "        self.size += 1                \n",
    "                \n",
    "\n",
    "#Implementation __contains__ method\n",
    "#which gives whether node exist or not.\n",
    "    def __contains__(self, data):\n",
    "        def contains_rec(node):\n",
    "            if not node:\n",
    "                return False\n",
    "            elif data < node.data:\n",
    "                return contains_rec(node.left)\n",
    "            elif data > node.data:\n",
    "                return contains_rec(node.right)\n",
    "            else:\n",
    "                return True\n",
    "\n",
    "        return contains_rec(self.root)\n",
    "\n",
    "#Implementation of __len__ method\n",
    "#which gives the size\n",
    "    def __len__(self):\n",
    "        return self.size\n",
    "\n",
    "    def __iter__(self):\n",
    "        def iter_rec(node):\n",
    "            if node:\n",
    "                yield from iter_rec(node.left)\n",
    "                yield node.val\n",
    "                yield from iter_rec(node.right)\n",
    "\n",
    "        yield from iter_rec(self.root)\n",
    "\n",
    "#Implementation of pprint method\n",
    "#which displays tree in AVL Tree format\n",
    "    def pprint(self, width=64):\n",
    "        height = self.height()\n",
    "        nodes = [(self.root, 0)]\n",
    "        prev_level = 0\n",
    "        repr_str = ''\n",
    "        while nodes:\n",
    "            n, level = nodes.pop(0)\n",
    "            if prev_level != level:\n",
    "                prev_level = level\n",
    "                repr_str += '\\n'\n",
    "            if not n:\n",
    "                if level < height - 1:\n",
    "                    nodes.extend([(None, level + 1), (None, level + 1)])\n",
    "                repr_str += '{data:^{width}}'.format(data='-', width=width // 2 ** level)\n",
    "            elif n:\n",
    "                if n.left or level < height - 1:\n",
    "                    nodes.append((n.left, level + 1))\n",
    "                if n.right or level < height - 1:\n",
    "                    nodes.append((n.right, level + 1))\n",
    "                repr_str += '{data:^{width}}'.format(data=n.data, width=width // 2 ** level)\n",
    "        print(repr_str)\n",
    "\n",
    "    def height(self):\n",
    "        def height_rec(t):\n",
    "            if not t:\n",
    "                return 0\n",
    "            else:\n",
    "                return max(1 + height_rec(t.left), 1 + height_rec(t.right))\n",
    "\n",
    "        return height_rec(self.root)\n"
   ]
  },
  {
   "cell_type": "code",
   "execution_count": 14,
   "metadata": {},
   "outputs": [
    {
     "name": "stdout",
     "output_type": "stream",
     "text": [
      "\n",
      "Construction of AVL Tree \n",
      "                               17                               \n",
      "               8                               36               \n",
      "       -               16              18              61       \n",
      "   -       -       -       -       -       28      41      96   \n"
     ]
    }
   ],
   "source": [
    "#Declaration object of the AVLTree\n",
    "avlObject = MyAVL()\n",
    "\n",
    "#Declaration of list with values\n",
    "listContents = [17,18,8,16,36,41,61,28,96]\n",
    "\n",
    "#Iterate the listContents list\n",
    "for each in listContents:\n",
    "    avlObject.insert(each)\n",
    "\n",
    "#Display statement\n",
    "print()\n",
    "print(\"Construction of AVL Tree \")\n",
    "\n",
    "#call pprint method with object\n",
    "avlObject.pprint()\n"
   ]
  },
  {
   "cell_type": "code",
   "execution_count": 15,
   "metadata": {},
   "outputs": [
    {
     "name": "stdout",
     "output_type": "stream",
     "text": [
      "                               36                               \n",
      "               17                              61               \n",
      "       8               18              41              96       \n",
      "   -       16      -       28      -       56      88      -    \n"
     ]
    }
   ],
   "source": [
    "avlObject.insert(56)\n",
    "avlObject.insert(88)\n",
    "avlObject.pprint()"
   ]
  },
  {
   "cell_type": "code",
   "execution_count": 16,
   "metadata": {},
   "outputs": [
    {
     "data": {
      "text/plain": [
       "True"
      ]
     },
     "execution_count": 16,
     "metadata": {},
     "output_type": "execute_result"
    }
   ],
   "source": [
    "avlObject.__contains__(8)"
   ]
  },
  {
   "cell_type": "code",
   "execution_count": 17,
   "metadata": {},
   "outputs": [
    {
     "name": "stdout",
     "output_type": "stream",
     "text": [
      "                               36                               \n",
      "               17                              61               \n",
      "       8               18              55              96       \n",
      "   -       16      -       28      41      56      88      -    \n"
     ]
    }
   ],
   "source": [
    "avlObject.insert(55)\n",
    "avlObject.pprint()\n"
   ]
  },
  {
   "cell_type": "code",
   "execution_count": 18,
   "metadata": {},
   "outputs": [
    {
     "name": "stdout",
     "output_type": "stream",
     "text": [
      "                               36                               \n",
      "               17                              61               \n",
      "       8               18              55              96       \n",
      "   -       16      -       28      41      56      88      -    \n",
      " -   -   -   -   -   -   -   -   -   48  -   -   -   -   -   -  \n"
     ]
    }
   ],
   "source": [
    "avlObject.insert(48)\n",
    "avlObject.pprint()"
   ]
  },
  {
   "cell_type": "code",
   "execution_count": 19,
   "metadata": {},
   "outputs": [
    {
     "name": "stdout",
     "output_type": "stream",
     "text": [
      "                               36                               \n",
      "               17                              61               \n",
      "       8               18              55              96       \n",
      "   -       16      -       28      46      56      88      -    \n",
      " -   -   -   -   -   -   -   -   41  48  -   -   -   -   -   -  \n"
     ]
    }
   ],
   "source": [
    "avlObject.insert(46)\n",
    "avlObject.pprint()"
   ]
  },
  {
   "cell_type": "code",
   "execution_count": 20,
   "metadata": {},
   "outputs": [
    {
     "name": "stdout",
     "output_type": "stream",
     "text": [
      "                               36                               \n",
      "               17                              61               \n",
      "       8               18              46              96       \n",
      "   -       16      -       28      41      55      88      -    \n",
      " -   -   -   -   -   -   -   -   -   45  48  56  -   -   -   -  \n"
     ]
    }
   ],
   "source": [
    "avlObject.insert(45)\n",
    "avlObject.pprint()"
   ]
  },
  {
   "cell_type": "code",
   "execution_count": 21,
   "metadata": {},
   "outputs": [
    {
     "name": "stdout",
     "output_type": "stream",
     "text": [
      "                               36                               \n",
      "               17                              61               \n",
      "       8               18              46              96       \n",
      "   -       16      -       28      44      55      88      -    \n",
      " -   -   -   -   -   -   -   -   41  45  48  56  -   -   -   -  \n"
     ]
    }
   ],
   "source": [
    "avlObject.insert(44)\n",
    "avlObject.pprint()"
   ]
  },
  {
   "cell_type": "code",
   "execution_count": 22,
   "metadata": {},
   "outputs": [
    {
     "name": "stdout",
     "output_type": "stream",
     "text": [
      "                               36                               \n",
      "               17                              55               \n",
      "       8               18              46              61       \n",
      "   -       16      -       28      44      48      56      96   \n",
      " -   -   -   -   -   -   -   -   41  45  47  -   -   -   88  -  \n"
     ]
    }
   ],
   "source": [
    "avlObject.insert(47)\n",
    "avlObject.pprint()"
   ]
  },
  {
   "cell_type": "code",
   "execution_count": 23,
   "metadata": {},
   "outputs": [
    {
     "name": "stdout",
     "output_type": "stream",
     "text": [
      "                               46                               \n",
      "               36                              55               \n",
      "       17              44              48              61       \n",
      "   8       18      41      45      47      -       56      96   \n",
      " -   16  -   28  -   43  -   -   -   -   -   -   -   -   88  -  \n"
     ]
    }
   ],
   "source": [
    "avlObject.insert(43)\n",
    "avlObject.pprint()"
   ]
  },
  {
   "cell_type": "code",
   "execution_count": 24,
   "metadata": {},
   "outputs": [
    {
     "name": "stdout",
     "output_type": "stream",
     "text": [
      "                               46                               \n",
      "               36                              55               \n",
      "       17              44              48              61       \n",
      "   8       18      42      45      47      -       56      96   \n",
      " -   16  -   28  41  43  -   -   -   -   -   -   -   -   88  -  \n"
     ]
    }
   ],
   "source": [
    "avlObject.insert(42)\n",
    "avlObject.pprint()"
   ]
  },
  {
   "cell_type": "code",
   "execution_count": null,
   "metadata": {},
   "outputs": [],
   "source": []
  },
  {
   "cell_type": "code",
   "execution_count": null,
   "metadata": {},
   "outputs": [],
   "source": []
  }
 ],
 "metadata": {
  "kernelspec": {
   "display_name": "Python 3",
   "language": "python",
   "name": "python3"
  },
  "language_info": {
   "codemirror_mode": {
    "name": "ipython",
    "version": 3
   },
   "file_extension": ".py",
   "mimetype": "text/x-python",
   "name": "python",
   "nbconvert_exporter": "python",
   "pygments_lexer": "ipython3",
   "version": "3.7.3"
  }
 },
 "nbformat": 4,
 "nbformat_minor": 2
}
