{
 "cells": [
  {
   "cell_type": "code",
   "execution_count": 80,
   "metadata": {},
   "outputs": [],
   "source": [
    "class MyHeap():\n",
    "    def __init__(self, size):\n",
    "        # Create a heap with the initial capacity given by size.\n",
    "        self.heap = [0] \n",
    "        self.size = size\n",
    "        self.count = 0        \n",
    "\n",
    "    def insert(self, data):\n",
    "        # Insert an item in to the heap.\n",
    "        # This method should be able to handle items above and beyond the initial capacity\n",
    "        self.heap.append(data)\n",
    "        self.count += 1\n",
    "        self.__up(self.count)\n",
    "        \n",
    "    \n",
    "    def __up(self, index):\n",
    "        while index//2 > 0:\n",
    "            if self.heap[index] > self.heap[index//2]:\n",
    "                tmp = self.heap[index//2]\n",
    "                self.heap[index//2] = self.heap[index]\n",
    "                self.heap[index] = tmp\n",
    "            index = index//2\n",
    "    \n",
    "    \n",
    "    def __down(self, index):\n",
    "         \n",
    "        while index*2 <= self.count:\n",
    "            largest = self.__min_child(index*2)\n",
    "            \n",
    "            if self.heap[index]> self.heap[largest]:\n",
    "                \n",
    "                tmp = self.heap[index]\n",
    "                self.heap[index] = self.heap[largest]\n",
    "                self.heap[largest] = tmp\n",
    "            index = largest\n",
    "            \n",
    "    def __min_child(self, index):   \n",
    "        if index + 1> self.count:\n",
    "            return index\n",
    "        else:\n",
    "            if self.heap[index] < self.heap[index + 1]:\n",
    "                return index\n",
    "            else:\n",
    "                return index + 1\n",
    "    \n",
    "\n",
    "    def heapify(self):\n",
    "        # Use either the O(n) or O(nlogn) algorithm to order the heap\n",
    "        pass\n",
    "\n",
    "    def extractFirst(self):\n",
    "        # Return the largest item in the heap, but ensure that the heap property is maintained\n",
    "        if self.heap and self.size > 0:\n",
    "            item = self.heap[1]\n",
    "            self.heap[1] = self.heap[self.count]\n",
    "            self.count -= 1\n",
    "            self.heap.pop()\n",
    "            self.__down(1)\n",
    "            return item\n",
    "        else:\n",
    "            return \"empty heap.\"\n",
    "            \n",
    "\n",
    "    def __len__(self):\n",
    "        # Return the number of items currently in the heap\n",
    "        return self.count\n",
    "\n",
    "    def getData(self):\n",
    "        # Return the current heap as an array that does not use the first value\n",
    "        if self.heap and self.count > 0:\n",
    "            return self.heap[1:]\n",
    "        return []\n"
   ]
  },
  {
   "cell_type": "code",
   "execution_count": 81,
   "metadata": {},
   "outputs": [],
   "source": [
    "m = MyHeap(1000)"
   ]
  },
  {
   "cell_type": "code",
   "execution_count": 82,
   "metadata": {},
   "outputs": [],
   "source": [
    "m.insert(66)\n",
    "m.insert(84)\n",
    "m.insert(98)\n",
    "m.insert(4)"
   ]
  },
  {
   "cell_type": "code",
   "execution_count": 83,
   "metadata": {},
   "outputs": [
    {
     "data": {
      "text/plain": [
       "[98, 66, 84, 4]"
      ]
     },
     "execution_count": 83,
     "metadata": {},
     "output_type": "execute_result"
    }
   ],
   "source": [
    "m.getData()"
   ]
  },
  {
   "cell_type": "code",
   "execution_count": 84,
   "metadata": {},
   "outputs": [
    {
     "data": {
      "text/plain": [
       "98"
      ]
     },
     "execution_count": 84,
     "metadata": {},
     "output_type": "execute_result"
    }
   ],
   "source": [
    "m.extractFirst()"
   ]
  },
  {
   "cell_type": "code",
   "execution_count": 85,
   "metadata": {},
   "outputs": [
    {
     "data": {
      "text/plain": [
       "[4, 66, 84]"
      ]
     },
     "execution_count": 85,
     "metadata": {},
     "output_type": "execute_result"
    }
   ],
   "source": [
    "m.getData()"
   ]
  },
  {
   "cell_type": "code",
   "execution_count": 86,
   "metadata": {},
   "outputs": [
    {
     "data": {
      "text/plain": [
       "3"
      ]
     },
     "execution_count": 86,
     "metadata": {},
     "output_type": "execute_result"
    }
   ],
   "source": [
    "m.__len__()"
   ]
  },
  {
   "cell_type": "code",
   "execution_count": null,
   "metadata": {},
   "outputs": [],
   "source": []
  }
 ],
 "metadata": {
  "kernelspec": {
   "display_name": "Python 3 (ipykernel)",
   "language": "python",
   "name": "python3"
  },
  "language_info": {
   "codemirror_mode": {
    "name": "ipython",
    "version": 3
   },
   "file_extension": ".py",
   "mimetype": "text/x-python",
   "name": "python",
   "nbconvert_exporter": "python",
   "pygments_lexer": "ipython3",
   "version": "3.9.7"
  }
 },
 "nbformat": 4,
 "nbformat_minor": 2
}
