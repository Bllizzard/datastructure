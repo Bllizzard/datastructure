{
 "cells": [
  {
   "cell_type": "code",
   "execution_count": 1,
   "metadata": {},
   "outputs": [],
   "source": [
    "class Pathfinder():\n",
    "    \n",
    "    def __init__(self , vector):\n",
    "        self.l = vector\n",
    "        \n",
    "#return [i + x] if in range else returns -1\n",
    "    def getNextPos1(self, i):\n",
    "        k = i + self.l[i]\n",
    "        if k < len(self.l):\n",
    "            return k\n",
    "        return -1\n",
    "#return [i - x] if in range else returns -1\n",
    "    def getNextPos2(self, i):\n",
    "        k = i - self.l[i]\n",
    "        if k >= 0:\n",
    "            return k\n",
    "        return -1\n",
    "    def getLastPos(self):\n",
    "        return len(self.l) - 1\n",
    "    \n",
    "def findAllPaths(self, solution):\n",
    "\n",
    "    curr_pos = solution[-1]\n",
    "    if curr_pos == self.getLastPos():\n",
    "        print(solution)\n",
    "        return True\n",
    "\n",
    "    nextPos = self.getNextPos1(curr_pos)\n",
    "    if nextPos != -1 and nextPos not in solution:\n",
    "\n",
    "        solution.append(nextPos)\n",
    "        retval = findAllPaths(self, solution)\n",
    "        if retval == True:\n",
    "            return True\n",
    "\n",
    "        del solution[-1]\n",
    "    nextPos = self.getNextPos2(curr_pos)\n",
    "    if nextPos != -1 and nextPos not in solution:\n",
    "\n",
    "\n",
    "        solution.append(nextPos)\n",
    "        retval = findAllPaths(self, solution)\n",
    "## if return value is found then the path has been found. return true\n",
    "        if retval == True:\n",
    "            return True\n",
    "        del solution[-1]\n",
    "##The [i - x] does not lead to final position, backtrack the path.\n",
    "##Not found from either positions return False\n",
    "    return False\n",
    "\n",
    "def getPaths(self):\n",
    "    \n",
    "    self.findAllPaths(self, solution)\n",
    "    \n",
    "    \n"
   ]
  },
  {
   "cell_type": "code",
   "execution_count": 2,
   "metadata": {},
   "outputs": [
    {
     "name": "stdout",
     "output_type": "stream",
     "text": [
      "[0, 2, 5, 7, 4, 11]\n"
     ]
    },
    {
     "data": {
      "text/plain": [
       "True"
      ]
     },
     "execution_count": 2,
     "metadata": {},
     "output_type": "execute_result"
    }
   ],
   "source": [
    "##intialise a gr class\n",
    "\n",
    "gn = Pathfinder([2, 8, 3, 2, 7, 2, 2, 3, 2, 1, 3, 0])\n",
    "\n",
    "##initialse path with position 0\n",
    "\n",
    "path = [0]\n",
    "\n",
    "findAllPaths(gn , path)"
   ]
  },
  {
   "cell_type": "code",
   "execution_count": null,
   "metadata": {},
   "outputs": [],
   "source": []
  },
  {
   "cell_type": "code",
   "execution_count": null,
   "metadata": {},
   "outputs": [],
   "source": []
  }
 ],
 "metadata": {
  "kernelspec": {
   "display_name": "Python 3",
   "language": "python",
   "name": "python3"
  },
  "language_info": {
   "codemirror_mode": {
    "name": "ipython",
    "version": 3
   },
   "file_extension": ".py",
   "mimetype": "text/x-python",
   "name": "python",
   "nbconvert_exporter": "python",
   "pygments_lexer": "ipython3",
   "version": "3.7.3"
  }
 },
 "nbformat": 4,
 "nbformat_minor": 2
}
