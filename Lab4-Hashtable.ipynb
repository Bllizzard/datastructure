{
 "cells": [
  {
   "cell_type": "markdown",
   "metadata": {},
   "source": [
    "# 1. HashTable (not deal with collision)"
   ]
  },
  {
   "cell_type": "code",
   "execution_count": 1,
   "metadata": {},
   "outputs": [],
   "source": [
    "class MyHashTable():\n",
    "    \n",
    "    def __init__(self, size, hash1):\n",
    "        # Create an empty hashtable with the size given, and stores the function hash1\n",
    "        self.size = size\n",
    "        self.hash1 = hash1\n",
    "        self.__slots = [None] * self.size\n",
    "        self.__data = [None] * self.size\n",
    "        self.count = 0\n",
    "    \n",
    "    def put(self, key, data):\n",
    "        # Store data with the key given, return true if successful or false if the data cannot be entered\n",
    "        # On a collision, the table should not be changed\n",
    "        hash_value = self.hash1(key)\n",
    "        if self.__slots[hash_value] == None:\n",
    "            self.__slots[hash_value] = key\n",
    "            self.__data[hash_value] = data\n",
    "            return True\n",
    "        else:\n",
    "            return False\n",
    "        \n",
    "    def get(self, key):\n",
    "        # Returns the item linked to the key given, or None if element does not exist \n",
    "        start_slot = self.hash1(key)\n",
    "        position = start_slot\n",
    "        \n",
    "        while self.__slots[position] != None:\n",
    "            if self.__slots[position] == key:\n",
    "                return self.__data[position]\n",
    "            else:\n",
    "                return None\n",
    "        return None\n",
    "\n",
    "        \n",
    "    def __len__(self):\n",
    "        # Returns the number of items in the Hash Table\n",
    "        count = 0\n",
    "        for value in self.__slots:\n",
    "            if value != None:     \n",
    "                count += 1\n",
    "        return count\n",
    "\n",
    "    def isFull(self):\n",
    "        # Returns true if the HashTable cannot accept new members\n",
    "        items = 0\n",
    "        for item in self.__slots:\n",
    "            if item is not None:\n",
    "                items += 1\n",
    "        return items >= self.__len__()\n"
   ]
  },
  {
   "cell_type": "code",
   "execution_count": 2,
   "metadata": {},
   "outputs": [],
   "source": [
    "m = MyHashTable(5, lambda a: a%5)"
   ]
  },
  {
   "cell_type": "code",
   "execution_count": 3,
   "metadata": {},
   "outputs": [
    {
     "data": {
      "text/plain": [
       "False"
      ]
     },
     "execution_count": 3,
     "metadata": {},
     "output_type": "execute_result"
    }
   ],
   "source": [
    "m.put(2, 66)\n",
    "m.put(4, 77)\n",
    "m.put(5, 88)\n",
    "m.put(6, 99)\n",
    "m.put(7, 44)"
   ]
  },
  {
   "cell_type": "code",
   "execution_count": 4,
   "metadata": {},
   "outputs": [
    {
     "data": {
      "text/plain": [
       "66"
      ]
     },
     "execution_count": 4,
     "metadata": {},
     "output_type": "execute_result"
    }
   ],
   "source": [
    "m.get(2)"
   ]
  },
  {
   "cell_type": "code",
   "execution_count": 5,
   "metadata": {},
   "outputs": [
    {
     "data": {
      "text/plain": [
       "99"
      ]
     },
     "execution_count": 5,
     "metadata": {},
     "output_type": "execute_result"
    }
   ],
   "source": [
    "m.get(6)"
   ]
  },
  {
   "cell_type": "code",
   "execution_count": 6,
   "metadata": {},
   "outputs": [
    {
     "data": {
      "text/plain": [
       "True"
      ]
     },
     "execution_count": 6,
     "metadata": {},
     "output_type": "execute_result"
    }
   ],
   "source": [
    "m.isFull()"
   ]
  },
  {
   "cell_type": "markdown",
   "metadata": {},
   "source": [
    "# 2. HashTable (Separate Chain)"
   ]
  },
  {
   "cell_type": "code",
   "execution_count": 7,
   "metadata": {},
   "outputs": [],
   "source": [
    "class MyChainTable(MyHashTable):\n",
    "    \n",
    "    class Node:\n",
    "        def __init__(self, index):\n",
    "            self.index = index\n",
    "            self.next = None\n",
    "    \n",
    "    \n",
    "    def __init__(self, size, hash1):\n",
    "        # Create an empty hashtable with the size given, and stores the function hash1\n",
    "        super().__init__(size,hash1)\n",
    "        self.root = []\n",
    "        self.size = size\n",
    "        self.hash1 = hash1\n",
    "        self.__slots = [None] * self.size\n",
    "        self.__data = [None] * self.size\n",
    "        self.count = 0\n",
    "        \n",
    "    \n",
    "    def put(self, key, data):\n",
    "        # Store the data with the key given in a list in the table, return true if successful or false if the data cannot be entered\n",
    "        # On a collision, the data should be added to the list\n",
    "        hash_value = self.hash1(key)\n",
    "        validex = len(self.root)\n",
    "        if self.__slots[hash_value] == None:\n",
    "            self.root.append([key, data])\n",
    "            self.count += 1\n",
    "            self.__slots[hash_value] = MyChainTable.Node(validex)\n",
    "#            self.__data[hash_value] = data\n",
    "            return True\n",
    "        else:\n",
    "            temp = self.__slots[hash_value]\n",
    "            while temp:\n",
    "                n = self.root[temp.index]\n",
    "                if n[0] == key:\n",
    "                    n[1] = data\n",
    "                    return\n",
    "                if temp.next is None:\n",
    "                    self.root.append([key, data])\n",
    "                    temp.next = MyChainTable.Node(validex)\n",
    "                    self.count += 1\n",
    "                    return True\n",
    "                temp = temp.next\n",
    "            return False\n",
    "\n",
    "    def get(self, key):\n",
    "        # Returns the item linked to the key given, or None if element does not exist                                 \n",
    "        \n",
    "        position = self.hash1(key)\n",
    "        temp = self.__slots[position]\n",
    "        while temp is not None:\n",
    "            if self.root[temp.index][0] == key:\n",
    "                return self.root[temp.index][1]\n",
    "            temp = temp.next\n",
    "        raise KeyError\n",
    "        \n",
    "    def __len__(self):\n",
    "        \n",
    "        # Returns the number of items in the Hash Table\n",
    "        return self.count\n",
    "\n",
    "\n",
    "    def isFull(self):\n",
    "        # Returns true if the HashTable cannot accept new members\n",
    "        items = 0\n",
    "        for item in self.__slots:\n",
    "            if item is not None:\n",
    "                items += 1\n",
    "        return items >= self.__len__()"
   ]
  },
  {
   "cell_type": "code",
   "execution_count": 8,
   "metadata": {},
   "outputs": [],
   "source": [
    "c = MyChainTable(5, lambda a: a%5)"
   ]
  },
  {
   "cell_type": "code",
   "execution_count": 9,
   "metadata": {},
   "outputs": [],
   "source": [
    "c.put(2, 66)\n",
    "c.put(4, 77)\n",
    "c.put(5, 88)\n",
    "c.put(6, 99)\n",
    "c.put(7, 44)\n",
    "c.put(7, 44)"
   ]
  },
  {
   "cell_type": "code",
   "execution_count": 10,
   "metadata": {},
   "outputs": [
    {
     "data": {
      "text/plain": [
       "66"
      ]
     },
     "execution_count": 10,
     "metadata": {},
     "output_type": "execute_result"
    }
   ],
   "source": [
    "c.get(2)"
   ]
  },
  {
   "cell_type": "code",
   "execution_count": 11,
   "metadata": {},
   "outputs": [
    {
     "data": {
      "text/plain": [
       "44"
      ]
     },
     "execution_count": 11,
     "metadata": {},
     "output_type": "execute_result"
    }
   ],
   "source": [
    "c.get(7)"
   ]
  },
  {
   "cell_type": "code",
   "execution_count": 12,
   "metadata": {},
   "outputs": [
    {
     "data": {
      "text/plain": [
       "False"
      ]
     },
     "execution_count": 12,
     "metadata": {},
     "output_type": "execute_result"
    }
   ],
   "source": [
    "c.isFull()"
   ]
  },
  {
   "cell_type": "markdown",
   "metadata": {},
   "source": [
    "# 3. HashTable (Double Hash Fuction)"
   ]
  },
  {
   "cell_type": "code",
   "execution_count": 13,
   "metadata": {},
   "outputs": [],
   "source": [
    "class MyDoubleHashTable(MyHashTable):\n",
    "    def __init__(self, size, hash1, hash2):\n",
    "        # Create an empty hashtable with the size given, and stores the functions hash1 and hash2\n",
    "        super().__init__(size,hash1)\n",
    "        self.size = size\n",
    "        self.hash1 = hash1\n",
    "        self.hash2 = hash2\n",
    "        self.__slots = [None] * self.size\n",
    "        self.__data = [None] * self.size\n",
    "        self.count = 0\n",
    "    \n",
    "    def put(self, key, data):\n",
    "        # Store data with the key given, return true if successful or false if the data cannot be entered\n",
    "        # On a collision, the key should be rehashed using some combination of the first and second hash functions\n",
    "        # Be careful that your code does not enter an infinite loop\n",
    "        hash_value = self.hash1(key)\n",
    "        if self.__slots[hash_value] == None:\n",
    "            self.__slots[hash_value] = key\n",
    "            self.__data[hash_value] = data\n",
    "            return True\n",
    "        elif self.__slots[hash_value] == key:\n",
    "            self.__data[hash_value] = data\n",
    "        else:\n",
    "            next_hashvalue = self.hash2(hash_value)\n",
    "            while self.__slots[next_hashvalue] != None and self.__slots[next_hashvalue] != key:\n",
    "                nextnext_hashvalue = self.hash2(next_hashvalue)\n",
    "                if next_hashvalue == nextnext_hashvalue:\n",
    "                    return\n",
    "            if self.__slots[next_hashvalue] == None:\n",
    "                self.__slots[next_hashvalue] = key\n",
    "                self.__data[next_hashvalue] = data\n",
    "            else:\n",
    "                self.__data[next_hashvalue] = data\n",
    "\n",
    "    \n",
    "    def get(self, key):\n",
    "        # Returns the item linked to the key given, or None if element does not exist \n",
    "        start_slot = self.hash1(key)\n",
    "        position = start_slot\n",
    "        \n",
    "        while self.__slots[position] != None:\n",
    "            if self.__slots[position] == key:\n",
    "                return self.__data[position]\n",
    "            else:\n",
    "                new_position = self.hash2(position)\n",
    "                if position == new_position:\n",
    "                    return None\n",
    "            return None\n",
    "        \n",
    "    def __len__(self):\n",
    "        # Returns the number of items in the Hash Table\n",
    "        count = 0\n",
    "        for value in self.__slots:\n",
    "            if value != None:     \n",
    "                count += 1\n",
    "        return count"
   ]
  },
  {
   "cell_type": "code",
   "execution_count": 14,
   "metadata": {},
   "outputs": [],
   "source": [
    "d = MyDoubleHashTable(5, lambda a: a%5, lambda a: a%2)"
   ]
  },
  {
   "cell_type": "code",
   "execution_count": 15,
   "metadata": {},
   "outputs": [],
   "source": [
    "d.put(2, 66)\n",
    "d.put(4, 77)\n",
    "d.put(5, 88)\n",
    "d.put(6, 99)\n",
    "d.put(9, 44)"
   ]
  },
  {
   "cell_type": "code",
   "execution_count": 16,
   "metadata": {},
   "outputs": [
    {
     "data": {
      "text/plain": [
       "88"
      ]
     },
     "execution_count": 16,
     "metadata": {},
     "output_type": "execute_result"
    }
   ],
   "source": [
    "d.get(5)"
   ]
  },
  {
   "cell_type": "code",
   "execution_count": 17,
   "metadata": {},
   "outputs": [
    {
     "data": {
      "text/plain": [
       "99"
      ]
     },
     "execution_count": 17,
     "metadata": {},
     "output_type": "execute_result"
    }
   ],
   "source": [
    "d.get(6)"
   ]
  },
  {
   "cell_type": "code",
   "execution_count": 18,
   "metadata": {},
   "outputs": [
    {
     "data": {
      "text/plain": [
       "66"
      ]
     },
     "execution_count": 18,
     "metadata": {},
     "output_type": "execute_result"
    }
   ],
   "source": [
    "d.get(2)"
   ]
  },
  {
   "cell_type": "code",
   "execution_count": 19,
   "metadata": {},
   "outputs": [
    {
     "data": {
      "text/plain": [
       "77"
      ]
     },
     "execution_count": 19,
     "metadata": {},
     "output_type": "execute_result"
    }
   ],
   "source": [
    "d.get(4)"
   ]
  },
  {
   "cell_type": "code",
   "execution_count": 20,
   "metadata": {},
   "outputs": [],
   "source": [
    "d.get(7)"
   ]
  },
  {
   "cell_type": "code",
   "execution_count": null,
   "metadata": {},
   "outputs": [],
   "source": []
  },
  {
   "cell_type": "code",
   "execution_count": null,
   "metadata": {},
   "outputs": [],
   "source": []
  }
 ],
 "metadata": {
  "kernelspec": {
   "display_name": "Python 3",
   "language": "python",
   "name": "python3"
  },
  "language_info": {
   "codemirror_mode": {
    "name": "ipython",
    "version": 3
   },
   "file_extension": ".py",
   "mimetype": "text/x-python",
   "name": "python",
   "nbconvert_exporter": "python",
   "pygments_lexer": "ipython3",
   "version": "3.7.3"
  }
 },
 "nbformat": 4,
 "nbformat_minor": 2
}
