{
 "cells": [
  {
   "cell_type": "code",
   "execution_count": 1,
   "metadata": {},
   "outputs": [],
   "source": [
    "class MyTrie:\n",
    "    def __init__(self):\n",
    "        # Initialize the trie node as needed\n",
    "        self.root = {}\n",
    "    \n",
    "    def insert(self, word):\n",
    "        # Insert a word into this trie node\n",
    "        trie = self.root\n",
    "        for w in word:\n",
    "            if w not in trie:\n",
    "                trie[w] = {}\n",
    "            trie = trie[w]\n",
    "        trie['#'] = True\n",
    "\n",
    "    def exists(self, word, position=0):\n",
    "        # Return true if the passed word exists in this trie node\n",
    "        # A terminal node will return true if the word passed is \"\"\n",
    "        trie = self.root\n",
    "        for w in word:\n",
    "            if w not in trie:\n",
    "                return False\n",
    "            trie = trie[w]\n",
    "        if '#' in trie:\n",
    "            return True\n",
    "        else:\n",
    "            return False\n",
    "         \n",
    "    def isTerminal(self):\n",
    "        # Return true if this node is the terminal point of a word\n",
    "        return '#' in self.root\n",
    "\n",
    "    def autoComplete(self, prefix, position=0):\n",
    "        # Return every word that extends this prefix in alphabetical order\n",
    "        trie = self.root\n",
    "        if self.isTerminal():\n",
    "            yield prefix\n",
    "        for k,v in trie:\n",
    "            word = prefix + k\n",
    "            yield from v.autoComplete(word, position=0)\n",
    "\n",
    "    def __len__(self):\n",
    "        # Return the number of words that either terminate at this node or descend from this node\n",
    "        # A terminal leaf should have length 1, the node A with terminal child leaves B|C should have length 2\n",
    "        \n",
    "        return len(self.root)\n"
   ]
  },
  {
   "cell_type": "code",
   "execution_count": 2,
   "metadata": {},
   "outputs": [],
   "source": [
    "Trie = MyTrie()"
   ]
  },
  {
   "cell_type": "code",
   "execution_count": 3,
   "metadata": {},
   "outputs": [],
   "source": [
    "Trie.insert(\"hi\")"
   ]
  },
  {
   "cell_type": "code",
   "execution_count": 4,
   "metadata": {},
   "outputs": [],
   "source": [
    "Trie.insert(\"hello\")"
   ]
  },
  {
   "cell_type": "code",
   "execution_count": 5,
   "metadata": {},
   "outputs": [],
   "source": [
    "Trie.insert(\"\")"
   ]
  },
  {
   "cell_type": "code",
   "execution_count": 6,
   "metadata": {},
   "outputs": [
    {
     "data": {
      "text/plain": [
       "True"
      ]
     },
     "execution_count": 6,
     "metadata": {},
     "output_type": "execute_result"
    }
   ],
   "source": [
    "Trie.exists(\"hi\")"
   ]
  },
  {
   "cell_type": "code",
   "execution_count": 7,
   "metadata": {},
   "outputs": [
    {
     "data": {
      "text/plain": [
       "False"
      ]
     },
     "execution_count": 7,
     "metadata": {},
     "output_type": "execute_result"
    }
   ],
   "source": [
    "Trie.exists(\"no\")"
   ]
  },
  {
   "cell_type": "code",
   "execution_count": 8,
   "metadata": {},
   "outputs": [
    {
     "data": {
      "text/plain": [
       "True"
      ]
     },
     "execution_count": 8,
     "metadata": {},
     "output_type": "execute_result"
    }
   ],
   "source": [
    "Trie.exists(\"\")"
   ]
  },
  {
   "cell_type": "code",
   "execution_count": 9,
   "metadata": {},
   "outputs": [
    {
     "data": {
      "text/plain": [
       "2"
      ]
     },
     "execution_count": 9,
     "metadata": {},
     "output_type": "execute_result"
    }
   ],
   "source": [
    "Trie.__len__()"
   ]
  },
  {
   "cell_type": "code",
   "execution_count": 10,
   "metadata": {},
   "outputs": [
    {
     "data": {
      "text/plain": [
       "<generator object MyTrie.autoComplete at 0x10cec54f8>"
      ]
     },
     "execution_count": 10,
     "metadata": {},
     "output_type": "execute_result"
    }
   ],
   "source": [
    "Trie.autoComplete(\"go\")"
   ]
  },
  {
   "cell_type": "code",
   "execution_count": 11,
   "metadata": {},
   "outputs": [
    {
     "data": {
      "text/plain": [
       "True"
      ]
     },
     "execution_count": 11,
     "metadata": {},
     "output_type": "execute_result"
    }
   ],
   "source": [
    "Trie.isTerminal()"
   ]
  },
  {
   "cell_type": "code",
   "execution_count": 12,
   "metadata": {},
   "outputs": [
    {
     "data": {
      "text/plain": [
       "<generator object MyTrie.autoComplete at 0x10cec5570>"
      ]
     },
     "execution_count": 12,
     "metadata": {},
     "output_type": "execute_result"
    }
   ],
   "source": [
    "Trie.autoComplete(\"be\")"
   ]
  },
  {
   "cell_type": "code",
   "execution_count": null,
   "metadata": {},
   "outputs": [],
   "source": []
  },
  {
   "cell_type": "code",
   "execution_count": null,
   "metadata": {},
   "outputs": [],
   "source": []
  },
  {
   "cell_type": "code",
   "execution_count": null,
   "metadata": {},
   "outputs": [],
   "source": []
  }
 ],
 "metadata": {
  "kernelspec": {
   "display_name": "Python 3",
   "language": "python",
   "name": "python3"
  },
  "language_info": {
   "codemirror_mode": {
    "name": "ipython",
    "version": 3
   },
   "file_extension": ".py",
   "mimetype": "text/x-python",
   "name": "python",
   "nbconvert_exporter": "python",
   "pygments_lexer": "ipython3",
   "version": "3.7.3"
  }
 },
 "nbformat": 4,
 "nbformat_minor": 2
}
